{
  "nbformat": 4,
  "nbformat_minor": 0,
  "metadata": {
    "colab": {
      "name": "Analise exploratoria entrada de turistas.ipynb",
      "provenance": [],
      "collapsed_sections": [],
      "authorship_tag": "ABX9TyPo4ZPAxdnOqun7ERoofaz8",
      "include_colab_link": true
    },
    "kernelspec": {
      "name": "python3",
      "display_name": "Python 3"
    },
    "language_info": {
      "name": "python"
    }
  },
  "cells": [
    {
      "cell_type": "markdown",
      "metadata": {
        "id": "view-in-github",
        "colab_type": "text"
      },
      "source": [
        "<a href=\"https://colab.research.google.com/github/cris080488/AnaliseExploratoria_DIO/blob/main/Analise_exploratoria_entrada_de_turistas.ipynb\" target=\"_parent\"><img src=\"https://colab.research.google.com/assets/colab-badge.svg\" alt=\"Open In Colab\"/></a>"
      ]
    },
    {
      "cell_type": "code",
      "metadata": {
        "id": "mWmQPn_TN0mp"
      },
      "source": [
        "#importando as bibliotecas necessárias\n",
        "import pandas as pd\n",
        "import numpy as np\n",
        "import matplotlib.pyplot as plt\n",
        "plt.style.use(\"seaborn\")\n",
        "\n",
        "\n"
      ],
      "execution_count": null,
      "outputs": []
    },
    {
      "cell_type": "code",
      "metadata": {
        "id": "tBlvYn6PxEbJ"
      },
      "source": [
        "#salvando a url dos conjuntos de dados proveninentes do ministerio do turismo (Ultimo ano disponivel e o ano de 2019)\n",
        "url_conjunto_2017 = \"http://dados.turismo.gov.br/images/csv/chegadas/chegadas_2017.csv\"\n",
        "url_conjunto_2018 = \"http://dados.turismo.gov.br/images/csv/chegadas/chegadas_2018.csv\"\n",
        "url_conjunto_2019 = \"http://dados.turismo.gov.br/images/csv/chegadas/chegadas_2019.csv\"\n",
        " \n",
        "#lendo os arquivos CSV e salvando cada dataset \n",
        "dataset_2017 = pd.read_csv(url_conjunto_2017, sep=';', error_bad_lines=False, encoding='latin-1') #usando codificação latin-1 codificação utf-8 gerou erro\n",
        "dataset_2018 = pd.read_csv(url_conjunto_2018, sep=';', error_bad_lines=False, encoding='utf-8') #usando codificação utf-8 codificação latin-1 gerou erro\n",
        "dataset_2019 = pd.read_csv(url_conjunto_2019, sep=';', error_bad_lines=False, encoding='latin-1') #usando codificação latin-1 codificação utf-8 gerou erro"
      ],
      "execution_count": null,
      "outputs": []
    },
    {
      "cell_type": "markdown",
      "metadata": {
        "id": "UIRPE4vuOPYD"
      },
      "source": [
        "## Verificando se a estrutura dos datasets e igual\n",
        "\n"
      ]
    },
    {
      "cell_type": "code",
      "metadata": {
        "colab": {
          "base_uri": "https://localhost:8080/",
          "height": 112
        },
        "id": "KVFJcxalOMBP",
        "outputId": "02ad2c11-c5fa-4500-d68f-82b1b167b4c6"
      },
      "source": [
        "dataset_2017.head(2)"
      ],
      "execution_count": null,
      "outputs": [
        {
          "output_type": "execute_result",
          "data": {
            "text/html": [
              "<div>\n",
              "<style scoped>\n",
              "    .dataframe tbody tr th:only-of-type {\n",
              "        vertical-align: middle;\n",
              "    }\n",
              "\n",
              "    .dataframe tbody tr th {\n",
              "        vertical-align: top;\n",
              "    }\n",
              "\n",
              "    .dataframe thead th {\n",
              "        text-align: right;\n",
              "    }\n",
              "</style>\n",
              "<table border=\"1\" class=\"dataframe\">\n",
              "  <thead>\n",
              "    <tr style=\"text-align: right;\">\n",
              "      <th></th>\n",
              "      <th>Continente</th>\n",
              "      <th>cod continente</th>\n",
              "      <th>País</th>\n",
              "      <th>cod pais</th>\n",
              "      <th>UF</th>\n",
              "      <th>cod uf</th>\n",
              "      <th>Via</th>\n",
              "      <th>cod via</th>\n",
              "      <th>ano</th>\n",
              "      <th>Mês</th>\n",
              "      <th>cod mes</th>\n",
              "      <th>Chegadas</th>\n",
              "    </tr>\n",
              "  </thead>\n",
              "  <tbody>\n",
              "    <tr>\n",
              "      <th>0</th>\n",
              "      <td>África</td>\n",
              "      <td>1</td>\n",
              "      <td>África do Sul</td>\n",
              "      <td>2</td>\n",
              "      <td>Acre</td>\n",
              "      <td>1</td>\n",
              "      <td>Terrestre</td>\n",
              "      <td>2</td>\n",
              "      <td>2017</td>\n",
              "      <td>janeiro</td>\n",
              "      <td>1</td>\n",
              "      <td>0</td>\n",
              "    </tr>\n",
              "    <tr>\n",
              "      <th>1</th>\n",
              "      <td>África</td>\n",
              "      <td>1</td>\n",
              "      <td>Angola</td>\n",
              "      <td>6</td>\n",
              "      <td>Acre</td>\n",
              "      <td>1</td>\n",
              "      <td>Terrestre</td>\n",
              "      <td>2</td>\n",
              "      <td>2017</td>\n",
              "      <td>janeiro</td>\n",
              "      <td>1</td>\n",
              "      <td>0</td>\n",
              "    </tr>\n",
              "  </tbody>\n",
              "</table>\n",
              "</div>"
            ],
            "text/plain": [
              "  Continente  cod continente           País  ...      Mês cod mes  Chegadas\n",
              "0     África               1  África do Sul  ...  janeiro       1         0\n",
              "1     África               1         Angola  ...  janeiro       1         0\n",
              "\n",
              "[2 rows x 12 columns]"
            ]
          },
          "metadata": {},
          "execution_count": 3
        }
      ]
    },
    {
      "cell_type": "code",
      "metadata": {
        "colab": {
          "base_uri": "https://localhost:8080/",
          "height": 112
        },
        "id": "2uDDhbNROpxR",
        "outputId": "b9d48ec2-08fb-4d1f-b4a7-96374fb45730"
      },
      "source": [
        "dataset_2018.head(2)"
      ],
      "execution_count": null,
      "outputs": [
        {
          "output_type": "execute_result",
          "data": {
            "text/html": [
              "<div>\n",
              "<style scoped>\n",
              "    .dataframe tbody tr th:only-of-type {\n",
              "        vertical-align: middle;\n",
              "    }\n",
              "\n",
              "    .dataframe tbody tr th {\n",
              "        vertical-align: top;\n",
              "    }\n",
              "\n",
              "    .dataframe thead th {\n",
              "        text-align: right;\n",
              "    }\n",
              "</style>\n",
              "<table border=\"1\" class=\"dataframe\">\n",
              "  <thead>\n",
              "    <tr style=\"text-align: right;\">\n",
              "      <th></th>\n",
              "      <th>Continente</th>\n",
              "      <th>cod continente</th>\n",
              "      <th>País</th>\n",
              "      <th>cod pais</th>\n",
              "      <th>UF</th>\n",
              "      <th>cod uf</th>\n",
              "      <th>Via</th>\n",
              "      <th>cod via</th>\n",
              "      <th>ano</th>\n",
              "      <th>Mês</th>\n",
              "      <th>cod mes</th>\n",
              "      <th>Chegadas</th>\n",
              "    </tr>\n",
              "  </thead>\n",
              "  <tbody>\n",
              "    <tr>\n",
              "      <th>0</th>\n",
              "      <td>África</td>\n",
              "      <td>1</td>\n",
              "      <td>África do Sul</td>\n",
              "      <td>2</td>\n",
              "      <td>Acre</td>\n",
              "      <td>1</td>\n",
              "      <td>Fluvial</td>\n",
              "      <td>4</td>\n",
              "      <td>2018</td>\n",
              "      <td>janeiro</td>\n",
              "      <td>1</td>\n",
              "      <td>0</td>\n",
              "    </tr>\n",
              "    <tr>\n",
              "      <th>1</th>\n",
              "      <td>África</td>\n",
              "      <td>1</td>\n",
              "      <td>África do Sul</td>\n",
              "      <td>2</td>\n",
              "      <td>Acre</td>\n",
              "      <td>1</td>\n",
              "      <td>Fluvial</td>\n",
              "      <td>4</td>\n",
              "      <td>2018</td>\n",
              "      <td>fevereiro</td>\n",
              "      <td>2</td>\n",
              "      <td>0</td>\n",
              "    </tr>\n",
              "  </tbody>\n",
              "</table>\n",
              "</div>"
            ],
            "text/plain": [
              "  Continente  cod continente           País  ...        Mês cod mes  Chegadas\n",
              "0     África               1  África do Sul  ...    janeiro       1         0\n",
              "1     África               1  África do Sul  ...  fevereiro       2         0\n",
              "\n",
              "[2 rows x 12 columns]"
            ]
          },
          "metadata": {},
          "execution_count": 4
        }
      ]
    },
    {
      "cell_type": "code",
      "metadata": {
        "colab": {
          "base_uri": "https://localhost:8080/",
          "height": 112
        },
        "id": "3uYlaaoTOtLK",
        "outputId": "4493c276-d9fb-4a54-8cc6-d170733a15b3"
      },
      "source": [
        "dataset_2019.head(2)"
      ],
      "execution_count": null,
      "outputs": [
        {
          "output_type": "execute_result",
          "data": {
            "text/html": [
              "<div>\n",
              "<style scoped>\n",
              "    .dataframe tbody tr th:only-of-type {\n",
              "        vertical-align: middle;\n",
              "    }\n",
              "\n",
              "    .dataframe tbody tr th {\n",
              "        vertical-align: top;\n",
              "    }\n",
              "\n",
              "    .dataframe thead th {\n",
              "        text-align: right;\n",
              "    }\n",
              "</style>\n",
              "<table border=\"1\" class=\"dataframe\">\n",
              "  <thead>\n",
              "    <tr style=\"text-align: right;\">\n",
              "      <th></th>\n",
              "      <th>Continente</th>\n",
              "      <th>cod continente</th>\n",
              "      <th>País</th>\n",
              "      <th>cod pais</th>\n",
              "      <th>UF</th>\n",
              "      <th>cod uf</th>\n",
              "      <th>Via</th>\n",
              "      <th>cod via</th>\n",
              "      <th>ano</th>\n",
              "      <th>Mês</th>\n",
              "      <th>cod mes</th>\n",
              "      <th>Chegadas</th>\n",
              "    </tr>\n",
              "  </thead>\n",
              "  <tbody>\n",
              "    <tr>\n",
              "      <th>0</th>\n",
              "      <td>África</td>\n",
              "      <td>1</td>\n",
              "      <td>África do Sul</td>\n",
              "      <td>2</td>\n",
              "      <td>Acre</td>\n",
              "      <td>1</td>\n",
              "      <td>Aérea</td>\n",
              "      <td>1</td>\n",
              "      <td>2019</td>\n",
              "      <td>Janeiro</td>\n",
              "      <td>1</td>\n",
              "      <td>0</td>\n",
              "    </tr>\n",
              "    <tr>\n",
              "      <th>1</th>\n",
              "      <td>África</td>\n",
              "      <td>1</td>\n",
              "      <td>África do Sul</td>\n",
              "      <td>2</td>\n",
              "      <td>Acre</td>\n",
              "      <td>1</td>\n",
              "      <td>Aérea</td>\n",
              "      <td>1</td>\n",
              "      <td>2019</td>\n",
              "      <td>Fevereiro</td>\n",
              "      <td>2</td>\n",
              "      <td>0</td>\n",
              "    </tr>\n",
              "  </tbody>\n",
              "</table>\n",
              "</div>"
            ],
            "text/plain": [
              "  Continente  cod continente           País  ...        Mês cod mes  Chegadas\n",
              "0     África               1  África do Sul  ...    Janeiro       1         0\n",
              "1     África               1  África do Sul  ...  Fevereiro       2         0\n",
              "\n",
              "[2 rows x 12 columns]"
            ]
          },
          "metadata": {},
          "execution_count": 5
        }
      ]
    },
    {
      "cell_type": "code",
      "metadata": {
        "id": "oW7fKJrCVnJ-"
      },
      "source": [
        "#concatenando os tres datasets\n",
        "df_turismo = pd.concat([dataset_2017, dataset_2018, dataset_2019])\n",
        "\n",
        "#normalizando a coluna 'Mês' pois a mesma tem meses com a inicial maiuscula e outros com a inicial minuscula\n",
        "df_turismo['Mês'] = df_turismo['Mês'].str.capitalize()"
      ],
      "execution_count": null,
      "outputs": []
    },
    {
      "cell_type": "code",
      "metadata": {
        "colab": {
          "base_uri": "https://localhost:8080/",
          "height": 112
        },
        "id": "sQDO845Se8pl",
        "outputId": "8d4a531b-5cf6-41cd-9ce7-d2708d9ba82c"
      },
      "source": [
        "#Verificando o novo dataframe após a concatenação\n",
        "df_turismo.head(2)"
      ],
      "execution_count": null,
      "outputs": [
        {
          "output_type": "execute_result",
          "data": {
            "text/html": [
              "<div>\n",
              "<style scoped>\n",
              "    .dataframe tbody tr th:only-of-type {\n",
              "        vertical-align: middle;\n",
              "    }\n",
              "\n",
              "    .dataframe tbody tr th {\n",
              "        vertical-align: top;\n",
              "    }\n",
              "\n",
              "    .dataframe thead th {\n",
              "        text-align: right;\n",
              "    }\n",
              "</style>\n",
              "<table border=\"1\" class=\"dataframe\">\n",
              "  <thead>\n",
              "    <tr style=\"text-align: right;\">\n",
              "      <th></th>\n",
              "      <th>Continente</th>\n",
              "      <th>cod continente</th>\n",
              "      <th>País</th>\n",
              "      <th>cod pais</th>\n",
              "      <th>UF</th>\n",
              "      <th>cod uf</th>\n",
              "      <th>Via</th>\n",
              "      <th>cod via</th>\n",
              "      <th>ano</th>\n",
              "      <th>Mês</th>\n",
              "      <th>cod mes</th>\n",
              "      <th>Chegadas</th>\n",
              "    </tr>\n",
              "  </thead>\n",
              "  <tbody>\n",
              "    <tr>\n",
              "      <th>0</th>\n",
              "      <td>África</td>\n",
              "      <td>1</td>\n",
              "      <td>África do Sul</td>\n",
              "      <td>2</td>\n",
              "      <td>Acre</td>\n",
              "      <td>1</td>\n",
              "      <td>Terrestre</td>\n",
              "      <td>2</td>\n",
              "      <td>2017</td>\n",
              "      <td>Janeiro</td>\n",
              "      <td>1</td>\n",
              "      <td>0</td>\n",
              "    </tr>\n",
              "    <tr>\n",
              "      <th>1</th>\n",
              "      <td>África</td>\n",
              "      <td>1</td>\n",
              "      <td>Angola</td>\n",
              "      <td>6</td>\n",
              "      <td>Acre</td>\n",
              "      <td>1</td>\n",
              "      <td>Terrestre</td>\n",
              "      <td>2</td>\n",
              "      <td>2017</td>\n",
              "      <td>Janeiro</td>\n",
              "      <td>1</td>\n",
              "      <td>0</td>\n",
              "    </tr>\n",
              "  </tbody>\n",
              "</table>\n",
              "</div>"
            ],
            "text/plain": [
              "  Continente  cod continente           País  ...      Mês cod mes  Chegadas\n",
              "0     África               1  África do Sul  ...  Janeiro       1         0\n",
              "1     África               1         Angola  ...  Janeiro       1         0\n",
              "\n",
              "[2 rows x 12 columns]"
            ]
          },
          "metadata": {},
          "execution_count": 7
        }
      ]
    },
    {
      "cell_type": "code",
      "metadata": {
        "id": "CKf9-99ZV5N2"
      },
      "source": [
        "#Excluindo as colunas desnescessarias\n",
        "df_turismo.drop(['cod continente', 'cod pais', 'cod uf', 'cod via'], axis=1, inplace=True)"
      ],
      "execution_count": null,
      "outputs": []
    },
    {
      "cell_type": "code",
      "metadata": {
        "colab": {
          "base_uri": "https://localhost:8080/"
        },
        "id": "RbldhbQ6N9U_",
        "outputId": "f922108d-bdf5-4298-bd9d-c89d65fd3ec4"
      },
      "source": [
        "#Verificando o numero de linhas e colunas\n",
        "df_turismo.shape"
      ],
      "execution_count": null,
      "outputs": [
        {
          "output_type": "execute_result",
          "data": {
            "text/plain": [
              "(139500, 8)"
            ]
          },
          "metadata": {},
          "execution_count": 9
        }
      ]
    },
    {
      "cell_type": "code",
      "metadata": {
        "colab": {
          "base_uri": "https://localhost:8080/"
        },
        "id": "6zcek7qQq1SG",
        "outputId": "5a4204aa-8f54-45eb-8ccf-6b91a9887ade"
      },
      "source": [
        "#Verificando a quantidade de valores nulos\n",
        "df_turismo.isnull().sum()"
      ],
      "execution_count": null,
      "outputs": [
        {
          "output_type": "execute_result",
          "data": {
            "text/plain": [
              "Continente    0\n",
              "País          0\n",
              "UF            0\n",
              "Via           0\n",
              "ano           0\n",
              "Mês           0\n",
              "cod mes       0\n",
              "Chegadas      0\n",
              "dtype: int64"
            ]
          },
          "metadata": {},
          "execution_count": 10
        }
      ]
    },
    {
      "cell_type": "code",
      "metadata": {
        "colab": {
          "base_uri": "https://localhost:8080/"
        },
        "id": "6nlptU14PVFw",
        "outputId": "c19317ff-95c3-427d-f049-410444762f3f"
      },
      "source": [
        "#Vericando a estrutura do dataframe\n",
        "df_turismo.dtypes"
      ],
      "execution_count": null,
      "outputs": [
        {
          "output_type": "execute_result",
          "data": {
            "text/plain": [
              "Continente    object\n",
              "País          object\n",
              "UF            object\n",
              "Via           object\n",
              "ano            int64\n",
              "Mês           object\n",
              "cod mes        int64\n",
              "Chegadas       int64\n",
              "dtype: object"
            ]
          },
          "metadata": {},
          "execution_count": 11
        }
      ]
    },
    {
      "cell_type": "code",
      "metadata": {
        "colab": {
          "base_uri": "https://localhost:8080/"
        },
        "id": "OK8EGs3lPvCk",
        "outputId": "23c27547-0529-4845-df33-3f7df1637541"
      },
      "source": [
        "#Qual total de turistas entraram no Brasil nos anos de 2017, 2018 e 2019 somados?\n",
        "df_turismo['Chegadas'].sum()"
      ],
      "execution_count": null,
      "outputs": [
        {
          "output_type": "execute_result",
          "data": {
            "text/plain": [
              "19563287"
            ]
          },
          "metadata": {},
          "execution_count": 12
        }
      ]
    },
    {
      "cell_type": "code",
      "metadata": {
        "colab": {
          "base_uri": "https://localhost:8080/"
        },
        "id": "2ZUgYBATQcbC",
        "outputId": "31d07f45-2607-4ba5-fb1e-661cc99aa268"
      },
      "source": [
        "#Qual total de turistas entraram no Brasil agrupado por ano?\n",
        "df_turismo.groupby('ano')['Chegadas'].sum()"
      ],
      "execution_count": null,
      "outputs": [
        {
          "output_type": "execute_result",
          "data": {
            "text/plain": [
              "ano\n",
              "2017    6588770\n",
              "2018    6621376\n",
              "2019    6353141\n",
              "Name: Chegadas, dtype: int64"
            ]
          },
          "metadata": {},
          "execution_count": 13
        }
      ]
    },
    {
      "cell_type": "code",
      "metadata": {
        "colab": {
          "base_uri": "https://localhost:8080/"
        },
        "id": "lo1jLqHyRIzv",
        "outputId": "ad739fbb-2888-46f5-8de2-5dd14a8bd569"
      },
      "source": [
        "#Qual numero de turistas cada estado registrou ordenado do maior ao menor?\n",
        "df_turismo.groupby('UF', sort=False)['Chegadas'].sum().sort_values(ascending=False)"
      ],
      "execution_count": null,
      "outputs": [
        {
          "output_type": "execute_result",
          "data": {
            "text/plain": [
              "UF\n",
              "São Paulo                       6754579\n",
              "Rio de Janeiro                  3901225\n",
              "Rio Grande do Sul               3130495\n",
              "Paraná                          2847769\n",
              "Santa Catarina                   632578\n",
              "Bahia                            458771\n",
              "Pernambuco                       316240\n",
              "Ceará                            294837\n",
              "Mato Grosso do Sul               253180\n",
              "Distrito Federal                 226279\n",
              "Minas Gerais                     192778\n",
              "Amazonas                          98997\n",
              "Amapá                             94968\n",
              "Acre                              90674\n",
              "Pará                              85250\n",
              "Rio Grande do Norte               83158\n",
              "Roraima                           59152\n",
              "Outras Unidades da Federação      42357\n",
              "Name: Chegadas, dtype: int64"
            ]
          },
          "metadata": {},
          "execution_count": 14
        }
      ]
    },
    {
      "cell_type": "code",
      "metadata": {
        "colab": {
          "base_uri": "https://localhost:8080/"
        },
        "id": "Bgk73mgJYxHo",
        "outputId": "e6346216-cdcd-4841-80dc-fbb5dbedc9e3"
      },
      "source": [
        "#Total de entradas por via ordenado do maior ao menor\n",
        "df_turismo.groupby('Via')['Chegadas'].sum().sort_values(ascending=False)"
      ],
      "execution_count": null,
      "outputs": [
        {
          "output_type": "execute_result",
          "data": {
            "text/plain": [
              "Via\n",
              "Aérea        12804107\n",
              "Terrestre     6179546\n",
              "Fluvial        297342\n",
              "Marítima       282292\n",
              "Name: Chegadas, dtype: int64"
            ]
          },
          "metadata": {},
          "execution_count": 15
        }
      ]
    },
    {
      "cell_type": "code",
      "metadata": {
        "colab": {
          "base_uri": "https://localhost:8080/"
        },
        "id": "HmJQizYgz_Tv",
        "outputId": "2a08ab2e-284b-4c44-d8d3-ce2247c2e445"
      },
      "source": [
        "df_turismo.groupby(['ano', 'cod mes', 'Mês'])['Chegadas'].sum()"
      ],
      "execution_count": null,
      "outputs": [
        {
          "output_type": "execute_result",
          "data": {
            "text/plain": [
              "ano   cod mes  Mês      \n",
              "2017  1        Janeiro      1107628\n",
              "      2        Fevereiro     863252\n",
              "      3        Março         563667\n",
              "      4        Abril         462810\n",
              "      5        Maio          349843\n",
              "      6        Junho         319853\n",
              "      7        Julho         477118\n",
              "      8        Agosto        410100\n",
              "      9        Setembro      419239\n",
              "      10       Outubro       440087\n",
              "      11       Novembro      494460\n",
              "      12       Dezembro      680713\n",
              "2018  1        Janeiro      1067389\n",
              "      2        Fevereiro     868482\n",
              "      3        Março         728742\n",
              "      4        Abril         435415\n",
              "      5        Maio          341310\n",
              "      6        Junho         302154\n",
              "      7        Julho         448317\n",
              "      8        Agosto        429661\n",
              "      9        Setembro      425847\n",
              "      10       Outubro       433955\n",
              "      11       Novembro      478421\n",
              "      12       Dezembro      661683\n",
              "2019  1        Janeiro       863301\n",
              "      2        Fevereiro     816032\n",
              "      3        Março         611372\n",
              "      4        Abril         497309\n",
              "      5        Maio          343094\n",
              "      6        Junho         400237\n",
              "      7        Julho         459827\n",
              "      8        Agosto        417794\n",
              "      9        Setembro      407235\n",
              "      10       Outubro       413170\n",
              "      11       Novembro      471671\n",
              "      12       Dezembro      652099\n",
              "Name: Chegadas, dtype: int64"
            ]
          },
          "metadata": {},
          "execution_count": 16
        }
      ]
    },
    {
      "cell_type": "code",
      "metadata": {
        "colab": {
          "base_uri": "https://localhost:8080/",
          "height": 1000
        },
        "id": "fqmnNCoW0Vri",
        "outputId": "e2f149bc-9779-457f-95db-48935cedcef0"
      },
      "source": [
        "#Quantidades de entrada por Continente por via \n",
        "df_continente = df_turismo.groupby(['Continente', 'Via'])['Chegadas'].sum().reset_index()\n",
        "df_continente.sort_values(by=['Continente','Chegadas']).reset_index(drop=True)"
      ],
      "execution_count": null,
      "outputs": [
        {
          "output_type": "execute_result",
          "data": {
            "text/html": [
              "<div>\n",
              "<style scoped>\n",
              "    .dataframe tbody tr th:only-of-type {\n",
              "        vertical-align: middle;\n",
              "    }\n",
              "\n",
              "    .dataframe tbody tr th {\n",
              "        vertical-align: top;\n",
              "    }\n",
              "\n",
              "    .dataframe thead th {\n",
              "        text-align: right;\n",
              "    }\n",
              "</style>\n",
              "<table border=\"1\" class=\"dataframe\">\n",
              "  <thead>\n",
              "    <tr style=\"text-align: right;\">\n",
              "      <th></th>\n",
              "      <th>Continente</th>\n",
              "      <th>Via</th>\n",
              "      <th>Chegadas</th>\n",
              "    </tr>\n",
              "  </thead>\n",
              "  <tbody>\n",
              "    <tr>\n",
              "      <th>0</th>\n",
              "      <td>América Central e Caribe</td>\n",
              "      <td>Fluvial</td>\n",
              "      <td>115</td>\n",
              "    </tr>\n",
              "    <tr>\n",
              "      <th>1</th>\n",
              "      <td>América Central e Caribe</td>\n",
              "      <td>Marítima</td>\n",
              "      <td>516</td>\n",
              "    </tr>\n",
              "    <tr>\n",
              "      <th>2</th>\n",
              "      <td>América Central e Caribe</td>\n",
              "      <td>Terrestre</td>\n",
              "      <td>12531</td>\n",
              "    </tr>\n",
              "    <tr>\n",
              "      <th>3</th>\n",
              "      <td>América Central e Caribe</td>\n",
              "      <td>Aérea</td>\n",
              "      <td>126045</td>\n",
              "    </tr>\n",
              "    <tr>\n",
              "      <th>4</th>\n",
              "      <td>América do Norte</td>\n",
              "      <td>Fluvial</td>\n",
              "      <td>14449</td>\n",
              "    </tr>\n",
              "    <tr>\n",
              "      <th>5</th>\n",
              "      <td>América do Norte</td>\n",
              "      <td>Marítima</td>\n",
              "      <td>29801</td>\n",
              "    </tr>\n",
              "    <tr>\n",
              "      <th>6</th>\n",
              "      <td>América do Norte</td>\n",
              "      <td>Terrestre</td>\n",
              "      <td>111561</td>\n",
              "    </tr>\n",
              "    <tr>\n",
              "      <th>7</th>\n",
              "      <td>América do Norte</td>\n",
              "      <td>Aérea</td>\n",
              "      <td>1890217</td>\n",
              "    </tr>\n",
              "    <tr>\n",
              "      <th>8</th>\n",
              "      <td>América do Sul</td>\n",
              "      <td>Marítima</td>\n",
              "      <td>173323</td>\n",
              "    </tr>\n",
              "    <tr>\n",
              "      <th>9</th>\n",
              "      <td>América do Sul</td>\n",
              "      <td>Fluvial</td>\n",
              "      <td>230582</td>\n",
              "    </tr>\n",
              "    <tr>\n",
              "      <th>10</th>\n",
              "      <td>América do Sul</td>\n",
              "      <td>Terrestre</td>\n",
              "      <td>5388714</td>\n",
              "    </tr>\n",
              "    <tr>\n",
              "      <th>11</th>\n",
              "      <td>América do Sul</td>\n",
              "      <td>Aérea</td>\n",
              "      <td>5967485</td>\n",
              "    </tr>\n",
              "    <tr>\n",
              "      <th>12</th>\n",
              "      <td>Continente não especificado</td>\n",
              "      <td>Fluvial</td>\n",
              "      <td>2</td>\n",
              "    </tr>\n",
              "    <tr>\n",
              "      <th>13</th>\n",
              "      <td>Continente não especificado</td>\n",
              "      <td>Marítima</td>\n",
              "      <td>2</td>\n",
              "    </tr>\n",
              "    <tr>\n",
              "      <th>14</th>\n",
              "      <td>Continente não especificado</td>\n",
              "      <td>Terrestre</td>\n",
              "      <td>18</td>\n",
              "    </tr>\n",
              "    <tr>\n",
              "      <th>15</th>\n",
              "      <td>Continente não especificado</td>\n",
              "      <td>Aérea</td>\n",
              "      <td>106</td>\n",
              "    </tr>\n",
              "    <tr>\n",
              "      <th>16</th>\n",
              "      <td>Europa</td>\n",
              "      <td>Fluvial</td>\n",
              "      <td>50725</td>\n",
              "    </tr>\n",
              "    <tr>\n",
              "      <th>17</th>\n",
              "      <td>Europa</td>\n",
              "      <td>Marítima</td>\n",
              "      <td>66826</td>\n",
              "    </tr>\n",
              "    <tr>\n",
              "      <th>18</th>\n",
              "      <td>Europa</td>\n",
              "      <td>Terrestre</td>\n",
              "      <td>525883</td>\n",
              "    </tr>\n",
              "    <tr>\n",
              "      <th>19</th>\n",
              "      <td>Europa</td>\n",
              "      <td>Aérea</td>\n",
              "      <td>3800125</td>\n",
              "    </tr>\n",
              "    <tr>\n",
              "      <th>20</th>\n",
              "      <td>Oceania</td>\n",
              "      <td>Fluvial</td>\n",
              "      <td>884</td>\n",
              "    </tr>\n",
              "    <tr>\n",
              "      <th>21</th>\n",
              "      <td>Oceania</td>\n",
              "      <td>Marítima</td>\n",
              "      <td>4619</td>\n",
              "    </tr>\n",
              "    <tr>\n",
              "      <th>22</th>\n",
              "      <td>Oceania</td>\n",
              "      <td>Terrestre</td>\n",
              "      <td>33004</td>\n",
              "    </tr>\n",
              "    <tr>\n",
              "      <th>23</th>\n",
              "      <td>Oceania</td>\n",
              "      <td>Aérea</td>\n",
              "      <td>129409</td>\n",
              "    </tr>\n",
              "    <tr>\n",
              "      <th>24</th>\n",
              "      <td>África</td>\n",
              "      <td>Fluvial</td>\n",
              "      <td>103</td>\n",
              "    </tr>\n",
              "    <tr>\n",
              "      <th>25</th>\n",
              "      <td>África</td>\n",
              "      <td>Marítima</td>\n",
              "      <td>1407</td>\n",
              "    </tr>\n",
              "    <tr>\n",
              "      <th>26</th>\n",
              "      <td>África</td>\n",
              "      <td>Terrestre</td>\n",
              "      <td>5276</td>\n",
              "    </tr>\n",
              "    <tr>\n",
              "      <th>27</th>\n",
              "      <td>África</td>\n",
              "      <td>Aérea</td>\n",
              "      <td>197606</td>\n",
              "    </tr>\n",
              "    <tr>\n",
              "      <th>28</th>\n",
              "      <td>Ásia</td>\n",
              "      <td>Fluvial</td>\n",
              "      <td>482</td>\n",
              "    </tr>\n",
              "    <tr>\n",
              "      <th>29</th>\n",
              "      <td>Ásia</td>\n",
              "      <td>Marítima</td>\n",
              "      <td>5798</td>\n",
              "    </tr>\n",
              "    <tr>\n",
              "      <th>30</th>\n",
              "      <td>Ásia</td>\n",
              "      <td>Terrestre</td>\n",
              "      <td>102559</td>\n",
              "    </tr>\n",
              "    <tr>\n",
              "      <th>31</th>\n",
              "      <td>Ásia</td>\n",
              "      <td>Aérea</td>\n",
              "      <td>693114</td>\n",
              "    </tr>\n",
              "  </tbody>\n",
              "</table>\n",
              "</div>"
            ],
            "text/plain": [
              "                     Continente        Via  Chegadas\n",
              "0      América Central e Caribe    Fluvial       115\n",
              "1      América Central e Caribe   Marítima       516\n",
              "2      América Central e Caribe  Terrestre     12531\n",
              "3      América Central e Caribe      Aérea    126045\n",
              "4              América do Norte    Fluvial     14449\n",
              "5              América do Norte   Marítima     29801\n",
              "6              América do Norte  Terrestre    111561\n",
              "7              América do Norte      Aérea   1890217\n",
              "8                América do Sul   Marítima    173323\n",
              "9                América do Sul    Fluvial    230582\n",
              "10               América do Sul  Terrestre   5388714\n",
              "11               América do Sul      Aérea   5967485\n",
              "12  Continente não especificado    Fluvial         2\n",
              "13  Continente não especificado   Marítima         2\n",
              "14  Continente não especificado  Terrestre        18\n",
              "15  Continente não especificado      Aérea       106\n",
              "16                       Europa    Fluvial     50725\n",
              "17                       Europa   Marítima     66826\n",
              "18                       Europa  Terrestre    525883\n",
              "19                       Europa      Aérea   3800125\n",
              "20                      Oceania    Fluvial       884\n",
              "21                      Oceania   Marítima      4619\n",
              "22                      Oceania  Terrestre     33004\n",
              "23                      Oceania      Aérea    129409\n",
              "24                       África    Fluvial       103\n",
              "25                       África   Marítima      1407\n",
              "26                       África  Terrestre      5276\n",
              "27                       África      Aérea    197606\n",
              "28                         Ásia    Fluvial       482\n",
              "29                         Ásia   Marítima      5798\n",
              "30                         Ásia  Terrestre    102559\n",
              "31                         Ásia      Aérea    693114"
            ]
          },
          "metadata": {},
          "execution_count": 17
        }
      ]
    },
    {
      "cell_type": "code",
      "metadata": {
        "colab": {
          "base_uri": "https://localhost:8080/",
          "height": 363
        },
        "id": "sFa0ZoY4qtS2",
        "outputId": "91a9f0bf-82e0-4ddf-915b-dfc31fc15a22"
      },
      "source": [
        "#10 paises com maior numero de entradas\n",
        "df_top10 = df_turismo.groupby('País')['Chegadas'].sum().sort_values(ascending=False).nlargest(10).reset_index()\n",
        "df_top10"
      ],
      "execution_count": null,
      "outputs": [
        {
          "output_type": "execute_result",
          "data": {
            "text/html": [
              "<div>\n",
              "<style scoped>\n",
              "    .dataframe tbody tr th:only-of-type {\n",
              "        vertical-align: middle;\n",
              "    }\n",
              "\n",
              "    .dataframe tbody tr th {\n",
              "        vertical-align: top;\n",
              "    }\n",
              "\n",
              "    .dataframe thead th {\n",
              "        text-align: right;\n",
              "    }\n",
              "</style>\n",
              "<table border=\"1\" class=\"dataframe\">\n",
              "  <thead>\n",
              "    <tr style=\"text-align: right;\">\n",
              "      <th></th>\n",
              "      <th>País</th>\n",
              "      <th>Chegadas</th>\n",
              "    </tr>\n",
              "  </thead>\n",
              "  <tbody>\n",
              "    <tr>\n",
              "      <th>0</th>\n",
              "      <td>Argentina</td>\n",
              "      <td>7075535</td>\n",
              "    </tr>\n",
              "    <tr>\n",
              "      <th>1</th>\n",
              "      <td>Estados Unidos</td>\n",
              "      <td>1604284</td>\n",
              "    </tr>\n",
              "    <tr>\n",
              "      <th>2</th>\n",
              "      <td>Chile</td>\n",
              "      <td>1121302</td>\n",
              "    </tr>\n",
              "    <tr>\n",
              "      <th>3</th>\n",
              "      <td>Paraguai</td>\n",
              "      <td>1100069</td>\n",
              "    </tr>\n",
              "    <tr>\n",
              "      <th>4</th>\n",
              "      <td>Uruguai</td>\n",
              "      <td>1041264</td>\n",
              "    </tr>\n",
              "    <tr>\n",
              "      <th>5</th>\n",
              "      <td>França</td>\n",
              "      <td>750002</td>\n",
              "    </tr>\n",
              "    <tr>\n",
              "      <th>6</th>\n",
              "      <td>Alemanha</td>\n",
              "      <td>618966</td>\n",
              "    </tr>\n",
              "    <tr>\n",
              "      <th>7</th>\n",
              "      <td>Itália</td>\n",
              "      <td>530004</td>\n",
              "    </tr>\n",
              "    <tr>\n",
              "      <th>8</th>\n",
              "      <td>Reino Unido</td>\n",
              "      <td>503869</td>\n",
              "    </tr>\n",
              "    <tr>\n",
              "      <th>9</th>\n",
              "      <td>Portugal</td>\n",
              "      <td>466140</td>\n",
              "    </tr>\n",
              "  </tbody>\n",
              "</table>\n",
              "</div>"
            ],
            "text/plain": [
              "             País  Chegadas\n",
              "0       Argentina   7075535\n",
              "1  Estados Unidos   1604284\n",
              "2           Chile   1121302\n",
              "3        Paraguai   1100069\n",
              "4         Uruguai   1041264\n",
              "5          França    750002\n",
              "6        Alemanha    618966\n",
              "7          Itália    530004\n",
              "8     Reino Unido    503869\n",
              "9        Portugal    466140"
            ]
          },
          "metadata": {},
          "execution_count": 18
        }
      ]
    },
    {
      "cell_type": "code",
      "metadata": {
        "colab": {
          "base_uri": "https://localhost:8080/"
        },
        "id": "Q445YiqzwGPa",
        "outputId": "b93ff6c4-73f2-49fd-a619-91e0c061f6aa"
      },
      "source": [
        "#10 paises com menor numero de entradas\n",
        "df_turismo.groupby('País')['Chegadas'].sum().sort_values().nsmallest(10)"
      ],
      "execution_count": null,
      "outputs": [
        {
          "output_type": "execute_result",
          "data": {
            "text/plain": [
              "País\n",
              "Países não especificados     128\n",
              "Guiana Francesa             1338\n",
              "Gana                        1912\n",
              "Bangladesh                  2209\n",
              "Quênia                      2448\n",
              "Arábia Saudita              3141\n",
              "Trinidad e Tobago           3145\n",
              "Letônia                     3433\n",
              "Paquistão                   3498\n",
              "Nicarágua                   3712\n",
              "Name: Chegadas, dtype: int64"
            ]
          },
          "metadata": {},
          "execution_count": 19
        }
      ]
    },
    {
      "cell_type": "code",
      "metadata": {
        "colab": {
          "base_uri": "https://localhost:8080/",
          "height": 341
        },
        "id": "stUKJO_ZwejB",
        "outputId": "92bbcfdb-f79e-4d70-af7d-98950d7b554a"
      },
      "source": [
        "#Visualização dos top 10 países de origem dos turistas\n",
        "df_top10.plot.bar(x='País', y='Chegadas')\n",
        "plt.xticks(rotation=45)\n",
        "plt.xlabel(\"País\")\n",
        "plt.ylabel(\"Turistas (mi)\")\n",
        "plt.title('Top 10 Paises de origem dos turistas');\n",
        "\n",
        "\n",
        "\n"
      ],
      "execution_count": null,
      "outputs": [
        {
          "output_type": "display_data",
          "data": {
            "image/png": "[encoded data removed]",
            "text/plain": [
              "<Figure size 432x288 with 1 Axes>"
            ]
          },
          "metadata": {
            "needs_background": "light"
          }
        }
      ]
    },
    {
      "cell_type": "code",
      "metadata": {
        "colab": {
          "base_uri": "https://localhost:8080/",
          "height": 329
        },
        "id": "DoAdEjSQ8zOx",
        "outputId": "cd68e78f-5199-41cb-cd5b-9033f302fe00"
      },
      "source": [
        "df_mes = df_turismo.groupby(['ano', 'cod mes', 'Mês'])['Chegadas'].sum().reset_index()\n",
        "df_mes.plot(x ='Mês' , y='Chegadas')\n",
        "plt.xticks(rotation=45)\n",
        "plt.xlabel(\"Mês\" )\n",
        "plt.xticks(range(1, 36), labels=df_mes['Mês'])\n",
        "plt.ylabel(\"Turistas (mi)\")\n",
        "plt.tick_params(labelsize=12)\n",
        "plt.title(\"Chegadas x Mês\")\n",
        "plt.gcf().set_size_inches(20, 4);\n"
      ],
      "execution_count": null,
      "outputs": [
        {
          "output_type": "display_data",
          "data": {
            "image/png": "[encoded data removed]",
            "text/plain": [
              "<Figure size 1440x288 with 1 Axes>"
            ]
          },
          "metadata": {
            "needs_background": "light"
          }
        }
      ]
    },
    {
      "cell_type": "code",
      "metadata": {
        "colab": {
          "base_uri": "https://localhost:8080/",
          "height": 431
        },
        "id": "2TQ_Y2seVd2O",
        "outputId": "ef0cf835-4a0c-4d2e-d16b-675ab64f1f58"
      },
      "source": [
        "#Grafico de barras clusterizado para comparação entre os meses de cada ano\n",
        "\n",
        "plt.figure(figsize = (20, 6))\n",
        "\n",
        "colors = ['steelblue', 'lightcoral', 'darkseagreen']\n",
        "\n",
        "df_2017 = df_mes[df_mes['ano'] == 2017]\n",
        "df_2018 = df_mes[df_mes['ano'] == 2018]\n",
        "df_2019 = df_mes[df_mes['ano'] == 2019]\n",
        "\n",
        "\n",
        "plt.bar(df_2017['cod mes'], df_2017['Chegadas'], color=colors[0], width=0.25)\n",
        "plt.bar(df_2018['cod mes'] + 0.25, df_2018['Chegadas'], color=colors[1], width=0.25)\n",
        "plt.bar(df_2019['cod mes'] + 0.5, df_2019['Chegadas'], color=colors[2], width=0.25)\n",
        "\n",
        "plt.xticks(rotation=45)\n",
        "plt.xlabel(\"Mês\" )\n",
        "plt.xticks(range(1, 13), labels=df_mes['Mês'])\n",
        "plt.ylabel(\"Turistas (mi)\")\n",
        "plt.title(\"Comparação entre meses de cada ano x Chegada\");\n",
        "\n",
        "plt.legend(['2017', '2018', '2019'])\n",
        "\n",
        "plt.show()"
      ],
      "execution_count": null,
      "outputs": [
        {
          "output_type": "display_data",
          "data": {
            "image/png": "[encoded data removed]",
            "text/plain": [
              "<Figure size 1440x432 with 1 Axes>"
            ]
          },
          "metadata": {
            "needs_background": "light"
          }
        }
      ]
    },
    {
      "cell_type": "code",
      "metadata": {
        "id": "rOkIhz2TNSNN"
      },
      "source": [
        "df_uf = df_turismo.groupby(['UF', 'ano', 'Mês', 'cod mes'])['Chegadas'].sum().reset_index()"
      ],
      "execution_count": null,
      "outputs": []
    },
    {
      "cell_type": "code",
      "metadata": {
        "colab": {
          "base_uri": "https://localhost:8080/",
          "height": 650
        },
        "id": "Wj4t7HDHbPrX",
        "outputId": "9b05c656-7bfb-43ba-83fe-295d40e4a662"
      },
      "source": [
        "plt.figure(figsize=(10, 10))\n",
        "\n",
        "plt.scatter(df_uf['cod mes'], df_uf['Chegadas'])\n",
        "plt.xticks(rotation=45)\n",
        "plt.xlabel(\"Mês\" )\n",
        "plt.xticks(range(1, 13), labels=df_mes['Mês'])\n",
        "plt.ylabel(\"Turistas (mi)\")\n",
        "plt.title(\"Chegadas x Mês\");"
      ],
      "execution_count": null,
      "outputs": [
        {
          "output_type": "display_data",
          "data": {
            "image/png": "[encoded data removed]",
            "text/plain": [
              "<Figure size 720x720 with 1 Axes>"
            ]
          },
          "metadata": {
            "needs_background": "light"
          }
        }
      ]
    },
    {
      "cell_type": "code",
      "metadata": {
        "colab": {
          "base_uri": "https://localhost:8080/",
          "height": 263
        },
        "id": "hF22o45XiJXt",
        "outputId": "ff771c34-e219-4622-d357-557188b521c5"
      },
      "source": [
        "#Grafico de pizza mostrando a distribuição da entrada de turistas por via\n",
        "x=df_turismo.groupby('Via')['Chegadas'].sum().reset_index(inplace=False)\n",
        "columns = pd.Series(x['Via'])\n",
        "colors = ['royalblue', 'sandybrown', 'darkseagreen', 'indianred']\n",
        "plt.pie(x['Chegadas'], explode=[0, 0.1, 0.2, 0.05], labels=columns, colors=colors ,startangle=110)\n",
        "plt.title('Entradas de turistas por Via');\n"
      ],
      "execution_count": null,
      "outputs": [
        {
          "output_type": "display_data",
          "data": {
            "image/png": "[encoded data removed]",
            "text/plain": [
              "<Figure size 432x288 with 1 Axes>"
            ]
          },
          "metadata": {}
        }
      ]
    },
    {
      "cell_type": "code",
      "metadata": {
        "colab": {
          "base_uri": "https://localhost:8080/"
        },
        "id": "JpKUoH31Vt5f",
        "outputId": "9b9ee3a1-37d4-4b3e-85a1-1bb1fcf932c5"
      },
      "source": [
        "df_uf['Chegadas'].describe().round(2)"
      ],
      "execution_count": null,
      "outputs": [
        {
          "output_type": "execute_result",
          "data": {
            "text/plain": [
              "count       648.00\n",
              "mean      30190.26\n",
              "std       57702.47\n",
              "min         428.00\n",
              "25%        2387.00\n",
              "50%        5348.50\n",
              "75%       17344.75\n",
              "max      488893.00\n",
              "Name: Chegadas, dtype: float64"
            ]
          },
          "metadata": {},
          "execution_count": 32
        }
      ]
    },
    {
      "cell_type": "code",
      "metadata": {
        "colab": {
          "base_uri": "https://localhost:8080/",
          "height": 676
        },
        "id": "yORvWeArB_gm",
        "outputId": "d8efcf52-d3f6-4210-cf5c-6064b3b2fbdc"
      },
      "source": [
        "df_uf.nsmallest(20, 'Chegadas').sort_values(by='Chegadas', ascending=False)\n"
      ],
      "execution_count": null,
      "outputs": [
        {
          "output_type": "execute_result",
          "data": {
            "text/html": [
              "<div>\n",
              "<style scoped>\n",
              "    .dataframe tbody tr th:only-of-type {\n",
              "        vertical-align: middle;\n",
              "    }\n",
              "\n",
              "    .dataframe tbody tr th {\n",
              "        vertical-align: top;\n",
              "    }\n",
              "\n",
              "    .dataframe thead th {\n",
              "        text-align: right;\n",
              "    }\n",
              "</style>\n",
              "<table border=\"1\" class=\"dataframe\">\n",
              "  <thead>\n",
              "    <tr style=\"text-align: right;\">\n",
              "      <th></th>\n",
              "      <th>UF</th>\n",
              "      <th>ano</th>\n",
              "      <th>Mês</th>\n",
              "      <th>cod mes</th>\n",
              "      <th>Chegadas</th>\n",
              "    </tr>\n",
              "  </thead>\n",
              "  <tbody>\n",
              "    <tr>\n",
              "      <th>318</th>\n",
              "      <td>Outras Unidades da Federação</td>\n",
              "      <td>2019</td>\n",
              "      <td>Junho</td>\n",
              "      <td>6</td>\n",
              "      <td>928</td>\n",
              "    </tr>\n",
              "    <tr>\n",
              "      <th>450</th>\n",
              "      <td>Rio Grande do Norte</td>\n",
              "      <td>2018</td>\n",
              "      <td>Junho</td>\n",
              "      <td>6</td>\n",
              "      <td>921</td>\n",
              "    </tr>\n",
              "    <tr>\n",
              "      <th>323</th>\n",
              "      <td>Outras Unidades da Federação</td>\n",
              "      <td>2019</td>\n",
              "      <td>Setembro</td>\n",
              "      <td>9</td>\n",
              "      <td>918</td>\n",
              "    </tr>\n",
              "    <tr>\n",
              "      <th>568</th>\n",
              "      <td>Roraima</td>\n",
              "      <td>2019</td>\n",
              "      <td>Janeiro</td>\n",
              "      <td>1</td>\n",
              "      <td>906</td>\n",
              "    </tr>\n",
              "    <tr>\n",
              "      <th>296</th>\n",
              "      <td>Outras Unidades da Federação</td>\n",
              "      <td>2017</td>\n",
              "      <td>Março</td>\n",
              "      <td>3</td>\n",
              "      <td>901</td>\n",
              "    </tr>\n",
              "    <tr>\n",
              "      <th>322</th>\n",
              "      <td>Outras Unidades da Federação</td>\n",
              "      <td>2019</td>\n",
              "      <td>Outubro</td>\n",
              "      <td>10</td>\n",
              "      <td>895</td>\n",
              "    </tr>\n",
              "    <tr>\n",
              "      <th>571</th>\n",
              "      <td>Roraima</td>\n",
              "      <td>2019</td>\n",
              "      <td>Maio</td>\n",
              "      <td>5</td>\n",
              "      <td>878</td>\n",
              "    </tr>\n",
              "    <tr>\n",
              "      <th>570</th>\n",
              "      <td>Roraima</td>\n",
              "      <td>2019</td>\n",
              "      <td>Junho</td>\n",
              "      <td>6</td>\n",
              "      <td>835</td>\n",
              "    </tr>\n",
              "    <tr>\n",
              "      <th>319</th>\n",
              "      <td>Outras Unidades da Federação</td>\n",
              "      <td>2019</td>\n",
              "      <td>Maio</td>\n",
              "      <td>5</td>\n",
              "      <td>833</td>\n",
              "    </tr>\n",
              "    <tr>\n",
              "      <th>442</th>\n",
              "      <td>Rio Grande do Norte</td>\n",
              "      <td>2017</td>\n",
              "      <td>Outubro</td>\n",
              "      <td>10</td>\n",
              "      <td>830</td>\n",
              "    </tr>\n",
              "    <tr>\n",
              "      <th>301</th>\n",
              "      <td>Outras Unidades da Federação</td>\n",
              "      <td>2018</td>\n",
              "      <td>Agosto</td>\n",
              "      <td>8</td>\n",
              "      <td>733</td>\n",
              "    </tr>\n",
              "    <tr>\n",
              "      <th>567</th>\n",
              "      <td>Roraima</td>\n",
              "      <td>2019</td>\n",
              "      <td>Fevereiro</td>\n",
              "      <td>2</td>\n",
              "      <td>728</td>\n",
              "    </tr>\n",
              "    <tr>\n",
              "      <th>443</th>\n",
              "      <td>Rio Grande do Norte</td>\n",
              "      <td>2017</td>\n",
              "      <td>Setembro</td>\n",
              "      <td>9</td>\n",
              "      <td>685</td>\n",
              "    </tr>\n",
              "    <tr>\n",
              "      <th>294</th>\n",
              "      <td>Outras Unidades da Federação</td>\n",
              "      <td>2017</td>\n",
              "      <td>Junho</td>\n",
              "      <td>6</td>\n",
              "      <td>655</td>\n",
              "    </tr>\n",
              "    <tr>\n",
              "      <th>43</th>\n",
              "      <td>Amapá</td>\n",
              "      <td>2017</td>\n",
              "      <td>Maio</td>\n",
              "      <td>5</td>\n",
              "      <td>655</td>\n",
              "    </tr>\n",
              "    <tr>\n",
              "      <th>36</th>\n",
              "      <td>Amapá</td>\n",
              "      <td>2017</td>\n",
              "      <td>Abril</td>\n",
              "      <td>4</td>\n",
              "      <td>650</td>\n",
              "    </tr>\n",
              "    <tr>\n",
              "      <th>295</th>\n",
              "      <td>Outras Unidades da Federação</td>\n",
              "      <td>2017</td>\n",
              "      <td>Maio</td>\n",
              "      <td>5</td>\n",
              "      <td>634</td>\n",
              "    </tr>\n",
              "    <tr>\n",
              "      <th>572</th>\n",
              "      <td>Roraima</td>\n",
              "      <td>2019</td>\n",
              "      <td>Março</td>\n",
              "      <td>3</td>\n",
              "      <td>607</td>\n",
              "    </tr>\n",
              "    <tr>\n",
              "      <th>288</th>\n",
              "      <td>Outras Unidades da Federação</td>\n",
              "      <td>2017</td>\n",
              "      <td>Abril</td>\n",
              "      <td>4</td>\n",
              "      <td>605</td>\n",
              "    </tr>\n",
              "    <tr>\n",
              "      <th>44</th>\n",
              "      <td>Amapá</td>\n",
              "      <td>2017</td>\n",
              "      <td>Março</td>\n",
              "      <td>3</td>\n",
              "      <td>428</td>\n",
              "    </tr>\n",
              "  </tbody>\n",
              "</table>\n",
              "</div>"
            ],
            "text/plain": [
              "                               UF   ano        Mês  cod mes  Chegadas\n",
              "318  Outras Unidades da Federação  2019      Junho        6       928\n",
              "450           Rio Grande do Norte  2018      Junho        6       921\n",
              "323  Outras Unidades da Federação  2019   Setembro        9       918\n",
              "568                       Roraima  2019    Janeiro        1       906\n",
              "296  Outras Unidades da Federação  2017      Março        3       901\n",
              "322  Outras Unidades da Federação  2019    Outubro       10       895\n",
              "571                       Roraima  2019       Maio        5       878\n",
              "570                       Roraima  2019      Junho        6       835\n",
              "319  Outras Unidades da Federação  2019       Maio        5       833\n",
              "442           Rio Grande do Norte  2017    Outubro       10       830\n",
              "301  Outras Unidades da Federação  2018     Agosto        8       733\n",
              "567                       Roraima  2019  Fevereiro        2       728\n",
              "443           Rio Grande do Norte  2017   Setembro        9       685\n",
              "294  Outras Unidades da Federação  2017      Junho        6       655\n",
              "43                          Amapá  2017       Maio        5       655\n",
              "36                          Amapá  2017      Abril        4       650\n",
              "295  Outras Unidades da Federação  2017       Maio        5       634\n",
              "572                       Roraima  2019      Março        3       607\n",
              "288  Outras Unidades da Federação  2017      Abril        4       605\n",
              "44                          Amapá  2017      Março        3       428"
            ]
          },
          "metadata": {},
          "execution_count": 33
        }
      ]
    },
    {
      "cell_type": "code",
      "metadata": {
        "colab": {
          "base_uri": "https://localhost:8080/",
          "height": 585
        },
        "id": "qs8LO_S7iSOF",
        "outputId": "b0f433bb-c21f-43bc-a8f3-989b4008d472"
      },
      "source": [
        "#Analise dos seis estados com mais chegadas, analise por mês\n",
        "fig = plt.figure(figsize=(20,10))\n",
        "\n",
        "estados = ['São Paulo', 'Rio de Janeiro', 'Rio Grande do Sul', 'Paraná', 'Santa Catarina', 'Bahia']\n",
        "cores = ['royalblue', 'lightseagreen', 'darkgoldenrod', 'orchid', 'darkorange', 'limegreen' ]\n",
        "\n",
        "for i in range(len(estados)):\n",
        "    plt.subplot(2, 3, i+1)\n",
        "    x= df_uf[df_uf['UF'] == estados[i]]['cod mes']\n",
        "    y= df_uf[df_uf['UF'] == estados[i]]['Chegadas']\n",
        "    plt.bar(x, y, color = cores[i])\n",
        "    plt.xticks(rotation=45)\n",
        "    plt.xticks(range(1, 13), labels=df_mes['Mês'])\n",
        "    plt.ylabel(\"Turistas (mil)\")\n",
        "    plt.title('Chegadas {}'.format(estados[i]))\n",
        "\n",
        "plt.tight_layout(pad=2)\n",
        "plt.show()"
      ],
      "execution_count": null,
      "outputs": [
        {
          "output_type": "display_data",
          "data": {
            "image/png": "[encoded data removed]",
            "text/plain": [
              "<Figure size 1440x720 with 6 Axes>"
            ]
          },
          "metadata": {
            "needs_background": "light"
          }
        }
      ]
    },
    {
      "cell_type": "code",
      "metadata": {
        "id": "GT37-OV5fHhk",
        "colab": {
          "base_uri": "https://localhost:8080/",
          "height": 280
        },
        "outputId": "8cadaa10-0a98-4d6b-c48a-381b7ef43c2a"
      },
      "source": [
        "#Verificando o boxplot da das chegadas por mês para verificar outliers\n",
        "plt.boxplot(df_mes['Chegadas'])\n",
        "plt.title('Análise boxplot');"
      ],
      "execution_count": null,
      "outputs": [
        {
          "output_type": "display_data",
          "data": {
            "image/png": "[encoded data removed]",
            "text/plain": [
              "<Figure size 432x288 with 1 Axes>"
            ]
          },
          "metadata": {
            "needs_background": "light"
          }
        }
      ]
    }
  ]
}